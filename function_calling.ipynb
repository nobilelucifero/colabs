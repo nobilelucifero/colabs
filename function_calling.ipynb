{
  "nbformat": 4,
  "nbformat_minor": 0,
  "metadata": {
    "colab": {
      "provenance": [],
      "authorship_tag": "ABX9TyNXqNJckKpemL9/a+pXcBvq",
      "include_colab_link": true
    },
    "kernelspec": {
      "name": "python3",
      "display_name": "Python 3"
    },
    "language_info": {
      "name": "python"
    }
  },
  "cells": [
    {
      "cell_type": "markdown",
      "metadata": {
        "id": "view-in-github",
        "colab_type": "text"
      },
      "source": [
        "<a href=\"https://colab.research.google.com/github/nobilelucifero/colabs/blob/main/function_calling.ipynb\" target=\"_parent\"><img src=\"https://colab.research.google.com/assets/colab-badge.svg\" alt=\"Open In Colab\"/></a>"
      ]
    },
    {
      "cell_type": "markdown",
      "source": [
        "General setup"
      ],
      "metadata": {
        "id": "_PymbdTyP-2l"
      }
    },
    {
      "cell_type": "code",
      "execution_count": null,
      "metadata": {
        "id": "rd3B4UaNPDzQ"
      },
      "outputs": [],
      "source": [
        "%%capture\n",
        "!pip install openai"
      ]
    },
    {
      "cell_type": "code",
      "source": [
        "import requests\n",
        "import json"
      ],
      "metadata": {
        "id": "p1vFWRO0PNqf"
      },
      "execution_count": null,
      "outputs": []
    },
    {
      "cell_type": "code",
      "source": [
        "from google.colab import userdata\n",
        "from openai import OpenAI"
      ],
      "metadata": {
        "id": "EKTMItx6QK24"
      },
      "execution_count": null,
      "outputs": []
    },
    {
      "cell_type": "code",
      "source": [
        "llm_client = OpenAI(\n",
        "    api_key=userdata.get('OPENAI_KEY')\n",
        ")"
      ],
      "metadata": {
        "id": "GLdU82IJSouM"
      },
      "execution_count": null,
      "outputs": []
    },
    {
      "cell_type": "markdown",
      "source": [
        "Set up tools"
      ],
      "metadata": {
        "id": "2GSgytq2P7oO"
      }
    },
    {
      "cell_type": "code",
      "source": [
        "def get_tov(audience, purpose):\n",
        "  result = {\n",
        "      \"audience\": audience,\n",
        "      \"purpose\": purpose\n",
        "  }\n",
        "\n",
        "  return json.dumps(result)"
      ],
      "metadata": {
        "id": "HHUepcrP3X0n"
      },
      "execution_count": null,
      "outputs": []
    },
    {
      "cell_type": "code",
      "source": [
        "tools = [\n",
        "    {\n",
        "        \"type\": \"function\",\n",
        "        \"function\": {\n",
        "            \"name\": \"get_tov\",\n",
        "            \"description\": \"Get the Tone of Voice of a content source piece written by the author themselves.\",\n",
        "            \"parameters\": {\n",
        "                \"type\": \"object\",\n",
        "                \"properties\": {\n",
        "                    \"audience\": {\n",
        "                        \"type\": \"string\",\n",
        "                        \"description\": \"Defines who are the primary audiences or target demographics of the input. Each item will be a 2-3 word description.\",\n",
        "                    },\n",
        "                    \"purpose\": {\n",
        "                        \"type\": \"string\",\n",
        "                        \"description\": \"What's the main purpose or goal of the text?\",\n",
        "                    },\n",
        "                },\n",
        "                \"required\": [\"audience\", \"purpose\"],\n",
        "            },\n",
        "        }\n",
        "    }\n",
        "]\n",
        "\n",
        "tool_choice = {\"type\": \"function\", \"function\": {\"name\": \"get_tov\"}}"
      ],
      "metadata": {
        "id": "dHbaAwEpPe8s"
      },
      "execution_count": null,
      "outputs": []
    },
    {
      "cell_type": "code",
      "source": [
        "def converse(messages):\n",
        "    response = llm_client.chat.completions.create(\n",
        "        model=\"gpt-3.5-turbo\",\n",
        "        messages=messages,\n",
        "        tools=tools,\n",
        "        tool_choice=\"auto\"\n",
        "        # tool_choice=tool_choice\n",
        "    )\n",
        "\n",
        "    response_message = response.choices[0].message\n",
        "    tool_calls = response_message.tool_calls\n",
        "\n",
        "    if tool_calls:\n",
        "      messages.append(response_message)\n",
        "\n",
        "      available_functions = {\n",
        "          \"get_tov\": get_tov\n",
        "      }\n",
        "\n",
        "      for tool_call in tool_calls:\n",
        "        print(f\"Function: {tool_call.function.name}\")\n",
        "        print(f\"Params: {tool_call.function.arguments}\")\n",
        "\n",
        "        function_name = tool_call.function.name\n",
        "        function_to_call = available_functions[function_name]\n",
        "        function_args = json.loads(tool_call.function.arguments)\n",
        "        function_response = function_to_call(\n",
        "            audience = function_args.get(\"audience\"),\n",
        "            purpose = function_args.get(\"purpose\"),\n",
        "        )\n",
        "        print(f\"Tool reponse: {function_response}\")\n",
        "\n",
        "        messages.append({\n",
        "            \"tool_call_id\": tool_call.id,\n",
        "            \"role\": \"tool\",\n",
        "            \"name\": function_name,\n",
        "            \"content\": function_response\n",
        "        })\n",
        "\n",
        "        second_reponse = llm_client.chat.completions.create(\n",
        "            model = \"gpt-3.5-turbo\",\n",
        "            messages = messages,\n",
        "        )\n",
        "\n",
        "        return second_reponse.choices[0].message.content\n",
        "\n",
        "\n",
        "    # return response.choices[0].message;"
      ],
      "metadata": {
        "id": "dx6RKyZsQera"
      },
      "execution_count": null,
      "outputs": []
    },
    {
      "cell_type": "code",
      "source": [
        "input = \"\"\"\n",
        "A poor Woodman was cutting down a tree near the edge of a deep pool in the forest. It was late in the day and the Woodman was tired. He had been working since sunrise and his strokes were not so sure as they had been early that morning. Thus it happened that the axe slipped and flew out of his hands into the pool.\n",
        "\n",
        "The Woodman was in despair. The axe was all he possessed with which to make a living, and he had not money enough to buy a new one. As he stood wringing his hands and weeping, the god Mercury suddenly appeared and asked what the trouble was. The Woodman told what had happened, and straightway the kind Mercury dived into the pool. When he came up again he held a wonderful golden axe.\n",
        "\n",
        "\"Is this your axe?\" Mercury asked the Woodman.\n",
        "\n",
        "\"No,\" answered the honest Woodman, \"that is not my axe.\"\n",
        "\n",
        "Mercury laid the golden axe on the bank and sprang back into the pool. This time he brought up an axe of silver, but the Woodman declared again that his axe was just an ordinary one with a wooden handle.\n",
        "\n",
        "Mercury dived down for the third time, and when he came up again he had the very axe that had been lost.\n",
        "\n",
        "The poor Woodman was very glad that his axe had been found and could not thank the kind god enough. Mercury was greatly pleased with the Woodman's honesty.\n",
        "\n",
        "\"I admire your honesty,\" he said, \"and as a reward you may have all three axes, the gold and the silver as well as your own.\"\n",
        "\n",
        "The happy Woodman returned to his home with his treasures, and soon the story of his good fortune was known to everybody in the village. Now there were several Woodmen in the village who believed that they could easily win the same good fortune. They hurried out into the woods, one here, one there, and hiding their axes in the bushes, pretended they had lost them. Then they wept and wailed and called on Mercury to help them.\n",
        "\n",
        "And indeed, Mercury did appear, first to this one, then to that. To each one he showed an axe of gold, and each one eagerly claimed it to be the one he had lost. But Mercury did not give them the golden axe. Oh no! Instead he gave them each a hard whack over the head with it and sent them home. And when they returned next day to look for their own axes, they were nowhere to be found.\n",
        "\n",
        "Honesty is the best policy.\n",
        "\"\"\""
      ],
      "metadata": {
        "id": "14xluu15R7W3"
      },
      "execution_count": null,
      "outputs": []
    },
    {
      "cell_type": "code",
      "source": [
        "result = converse(messages=[\n",
        "      {\n",
        "        \"role\": \"system\",\n",
        "        \"content\": \"You are a savvy copywriter for SEO, Social Media, and Blogs.\"\n",
        "      }, {\n",
        "         \"role\": \"user\",\n",
        "         \"content\": \"What's the tone of voice of this text?\"\n",
        "      }, {\n",
        "          \"role\": \"user\",\n",
        "          \"content\": input,\n",
        "      },\n",
        "])"
      ],
      "metadata": {
        "colab": {
          "base_uri": "https://localhost:8080/"
        },
        "id": "6b3OPI-5RPd2",
        "outputId": "bf763d75-c740-42f6-cd1c-c0929faed1b8"
      },
      "execution_count": null,
      "outputs": [
        {
          "output_type": "stream",
          "name": "stdout",
          "text": [
            "Function: get_tov\n",
            "Params: {\"audience\":\"General\",\"purpose\":\"Entertaining narrative\"}\n",
            "Tool reponse: {\"audience\": \"General\", \"purpose\": \"Entertaining narrative\"}\n"
          ]
        }
      ]
    },
    {
      "cell_type": "code",
      "source": [
        "print(result)"
      ],
      "metadata": {
        "colab": {
          "base_uri": "https://localhost:8080/"
        },
        "id": "Fy_w6WGpSAoY",
        "outputId": "9f40c389-b7be-485c-ef96-2b8512e403bb"
      },
      "execution_count": null,
      "outputs": [
        {
          "output_type": "stream",
          "name": "stdout",
          "text": [
            "The tone of voice in the text is engaging, narrative, and moralistic with a touch of whimsicality. It captivates the reader with a story while delivering a moral lesson about honesty in a memorable and entertaining way.\n"
          ]
        }
      ]
    }
  ]
}